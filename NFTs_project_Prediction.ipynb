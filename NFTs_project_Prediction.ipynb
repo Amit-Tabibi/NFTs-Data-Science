{
 "cells": [
  {
   "cell_type": "code",
   "execution_count": 601,
   "id": "0190de2e",
   "metadata": {},
   "outputs": [],
   "source": [
    "import numpy as np\n",
    "import pandas as pd\n",
    "\n",
    "# sklearn imports\n",
    "from sklearn import linear_model\n",
    "from sklearn import metrics\n",
    "\n",
    "# helper for logistic regression explanations\n",
    "from scipy.special import expit\n",
    "from scipy.special import logit\n",
    "\n",
    "# visualization libraries \n",
    "import matplotlib.pyplot as plt\n",
    "%matplotlib inline  \n",
    "plt.rcParams['figure.figsize'] = (10, 6)\n",
    "\n",
    "from mpl_toolkits.mplot3d import Axes3D\n",
    "from matplotlib import cm\n",
    "\n",
    "from sklearn.model_selection import train_test_split\n",
    "from sklearn.preprocessing import StandardScaler, MinMaxScaler\n",
    "from sklearn.metrics import classification_report"
   ]
  },
  {
   "cell_type": "code",
   "execution_count": 45,
   "id": "3e9590fd",
   "metadata": {},
   "outputs": [],
   "source": [
    "df_to_predict = pd.read_csv('df_ready_for_prediction.csv')"
   ]
  },
  {
   "cell_type": "code",
   "execution_count": 46,
   "id": "ca02aa7f",
   "metadata": {},
   "outputs": [],
   "source": [
    "df = df_to_predict.drop(columns=['Unnamed: 0','Daily_Avg_Volume','Collection_30_Day_Volume','Collection_Name'],axis=1)"
   ]
  },
  {
   "cell_type": "code",
   "execution_count": 604,
   "id": "da4917b9",
   "metadata": {},
   "outputs": [],
   "source": [
    "X = df.drop(['Volume_Is_Bigger_Than_DailyAvg'],axis=1)\n",
    "y = df['Volume_Is_Bigger_Than_DailyAvg']"
   ]
  },
  {
   "cell_type": "code",
   "execution_count": 605,
   "id": "5ebe8286",
   "metadata": {},
   "outputs": [],
   "source": [
    "X_train, X_test, y_train, y_test = train_test_split(X, y, test_size=0.2,random_state=42)"
   ]
  },
  {
   "cell_type": "code",
   "execution_count": 606,
   "id": "5cc41434",
   "metadata": {},
   "outputs": [],
   "source": [
    "scaler = StandardScaler()\n",
    "scale = scaler.fit(X_train)\n",
    "X_train_scaled = scale.transform(X_train)\n",
    "X_test_scaled = scale.transform(X_test)"
   ]
  },
  {
   "cell_type": "code",
   "execution_count": 607,
   "id": "fdb9d1ea",
   "metadata": {},
   "outputs": [],
   "source": [
    "clf=linear_model.LogisticRegression()"
   ]
  },
  {
   "cell_type": "code",
   "execution_count": 608,
   "id": "cf5052f3",
   "metadata": {},
   "outputs": [
    {
     "name": "stderr",
     "output_type": "stream",
     "text": [
      "/Users/amittabibi/opt/anaconda3/lib/python3.8/site-packages/sklearn/linear_model/_logistic.py:763: ConvergenceWarning: lbfgs failed to converge (status=1):\n",
      "STOP: TOTAL NO. of ITERATIONS REACHED LIMIT.\n",
      "\n",
      "Increase the number of iterations (max_iter) or scale the data as shown in:\n",
      "    https://scikit-learn.org/stable/modules/preprocessing.html\n",
      "Please also refer to the documentation for alternative solver options:\n",
      "    https://scikit-learn.org/stable/modules/linear_model.html#logistic-regression\n",
      "  n_iter_i = _check_optimize_result(\n"
     ]
    },
    {
     "data": {
      "text/plain": [
       "LogisticRegression()"
      ]
     },
     "execution_count": 608,
     "metadata": {},
     "output_type": "execute_result"
    }
   ],
   "source": [
    "clf.fit(X_train,y_train)"
   ]
  },
  {
   "cell_type": "code",
   "execution_count": 609,
   "id": "6ade419d",
   "metadata": {},
   "outputs": [
    {
     "data": {
      "text/plain": [
       "1718    0\n",
       "1204    0\n",
       "2722    0\n",
       "1937    0\n",
       "1226    0\n",
       "       ..\n",
       "1601    0\n",
       "3471    0\n",
       "3463    0\n",
       "3883    0\n",
       "2215    0\n",
       "Name: Volume_Is_Bigger_Than_DailyAvg, Length: 805, dtype: int64"
      ]
     },
     "execution_count": 609,
     "metadata": {},
     "output_type": "execute_result"
    }
   ],
   "source": [
    "y_pred=clf.predict(X_test)\n",
    "y_actual=y_test\n",
    "y_actual"
   ]
  },
  {
   "cell_type": "code",
   "execution_count": 610,
   "id": "a09af8f4",
   "metadata": {},
   "outputs": [
    {
     "data": {
      "text/plain": [
       "array([[ 12,  38],\n",
       "       [  9, 746]])"
      ]
     },
     "execution_count": 610,
     "metadata": {},
     "output_type": "execute_result"
    }
   ],
   "source": [
    "metrics.confusion_matrix(y_actual,y_pred,labels=[1,0])"
   ]
  },
  {
   "cell_type": "code",
   "execution_count": 611,
   "id": "8fad40d1",
   "metadata": {},
   "outputs": [
    {
     "name": "stdout",
     "output_type": "stream",
     "text": [
      "accuracy is: 0.9416149068322981\n",
      "precision is: 0.5714285714285714\n",
      "recall is: 0.24\n",
      "f1 is: 0.33802816901408445\n"
     ]
    }
   ],
   "source": [
    "print(\"accuracy is:\",metrics.accuracy_score(y_actual, y_pred))\n",
    "print(\"precision is:\",metrics.precision_score(y_actual, y_pred))\n",
    "print(\"recall is:\",metrics.recall_score(y_actual, y_pred))\n",
    "print(\"f1 is:\",metrics.f1_score(y_actual, y_pred))"
   ]
  },
  {
   "cell_type": "code",
   "execution_count": 612,
   "id": "86d9b130",
   "metadata": {},
   "outputs": [
    {
     "data": {
      "text/plain": [
       "LogisticRegression()"
      ]
     },
     "execution_count": 612,
     "metadata": {},
     "output_type": "execute_result"
    }
   ],
   "source": [
    "clf.fit(X_train_scaled,y_train)"
   ]
  },
  {
   "cell_type": "code",
   "execution_count": 613,
   "id": "4a22d655",
   "metadata": {},
   "outputs": [
    {
     "data": {
      "text/plain": [
       "1718    0\n",
       "1204    0\n",
       "2722    0\n",
       "1937    0\n",
       "1226    0\n",
       "       ..\n",
       "1601    0\n",
       "3471    0\n",
       "3463    0\n",
       "3883    0\n",
       "2215    0\n",
       "Name: Volume_Is_Bigger_Than_DailyAvg, Length: 805, dtype: int64"
      ]
     },
     "execution_count": 613,
     "metadata": {},
     "output_type": "execute_result"
    }
   ],
   "source": [
    "y_pred=clf.predict(X_test_scaled)\n",
    "y_actual=y_test\n",
    "y_actual"
   ]
  },
  {
   "cell_type": "code",
   "execution_count": 614,
   "id": "e9019925",
   "metadata": {},
   "outputs": [
    {
     "data": {
      "text/plain": [
       "array([[ 18,  32],\n",
       "       [ 10, 745]])"
      ]
     },
     "execution_count": 614,
     "metadata": {},
     "output_type": "execute_result"
    }
   ],
   "source": [
    "metrics.confusion_matrix(y_actual,y_pred,labels=[1,0])\n",
    "## 13 is True Positive\n",
    "## 42 is True Negative\n",
    "## 12 is False Negative\n",
    "## 738 is True Negative"
   ]
  },
  {
   "cell_type": "code",
   "execution_count": 615,
   "id": "005bc91c",
   "metadata": {},
   "outputs": [
    {
     "name": "stdout",
     "output_type": "stream",
     "text": [
      "accuracy is: 0.9478260869565217\n",
      "precision is: 0.6428571428571429\n",
      "recall is: 0.36\n",
      "f1 is: 0.4615384615384615\n"
     ]
    }
   ],
   "source": [
    "print(\"accuracy is:\",metrics.accuracy_score(y_actual, y_pred))\n",
    "print(\"precision is:\",metrics.precision_score(y_actual, y_pred))\n",
    "print(\"recall is:\",metrics.recall_score(y_actual, y_pred))\n",
    "print(\"f1 is:\",metrics.f1_score(y_actual, y_pred))"
   ]
  },
  {
   "cell_type": "code",
   "execution_count": 603,
   "id": "f86e2c6c",
   "metadata": {},
   "outputs": [
    {
     "name": "stdout",
     "output_type": "stream",
     "text": [
      "              precision    recall  f1-score   support\n",
      "\n",
      "           0       0.96      0.99      0.98       755\n",
      "           1       0.71      0.44      0.54        50\n",
      "\n",
      "    accuracy                           0.95       805\n",
      "   macro avg       0.84      0.71      0.76       805\n",
      "weighted avg       0.95      0.95      0.95       805\n",
      "\n"
     ]
    }
   ],
   "source": [
    "print(classification_report(y_test,y_pred))"
   ]
  },
  {
   "cell_type": "code",
   "execution_count": 483,
   "id": "c30a2b19",
   "metadata": {},
   "outputs": [],
   "source": [
    "df2 = df.copy()"
   ]
  },
  {
   "cell_type": "code",
   "execution_count": 484,
   "id": "acf8ef9e",
   "metadata": {
    "code_folding": []
   },
   "outputs": [],
   "source": [
    "df2.drop(columns=['Category_Domain Names',\n",
    "       'Category_Music', 'Category_Photography', 'Category_Sports',\n",
    "       'Category_Trading Cards', 'Category_Utility', 'Category_Virtual Worlds'],axis=1,inplace=True)"
   ]
  },
  {
   "cell_type": "code",
   "execution_count": 588,
   "id": "9a7ed895",
   "metadata": {},
   "outputs": [],
   "source": [
    "df3 = df2.drop(columns=['Twitter_Page_Following','Max_Twitter_Retweets','Max_Twitter_Likes','Max_Twitter_Quotes','Category_Art'],axis=1)\n",
    "\n"
   ]
  },
  {
   "cell_type": "code",
   "execution_count": null,
   "id": "f1a56906",
   "metadata": {},
   "outputs": [],
   "source": []
  },
  {
   "cell_type": "code",
   "execution_count": null,
   "id": "01dab77e",
   "metadata": {},
   "outputs": [],
   "source": []
  },
  {
   "cell_type": "code",
   "execution_count": null,
   "id": "0f348867",
   "metadata": {},
   "outputs": [],
   "source": []
  }
 ],
 "metadata": {
  "kernelspec": {
   "display_name": "Python 3",
   "language": "python",
   "name": "python3"
  },
  "language_info": {
   "codemirror_mode": {
    "name": "ipython",
    "version": 3
   },
   "file_extension": ".py",
   "mimetype": "text/x-python",
   "name": "python",
   "nbconvert_exporter": "python",
   "pygments_lexer": "ipython3",
   "version": "3.8.8"
  }
 },
 "nbformat": 4,
 "nbformat_minor": 5
}
